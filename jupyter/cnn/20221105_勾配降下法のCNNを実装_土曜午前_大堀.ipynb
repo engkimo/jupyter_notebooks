{
  "nbformat": 4,
  "nbformat_minor": 0,
  "metadata": {
    "colab": {
      "provenance": [],
      "collapsed_sections": []
    },
    "kernelspec": {
      "name": "python3",
      "display_name": "Python 3"
    },
    "language_info": {
      "name": "python"
    }
  },
  "cells": [
    {
      "cell_type": "code",
      "execution_count": 2,
      "metadata": {
        "id": "yRD_F-32TMEp"
      },
      "outputs": [],
      "source": [
        "%matplotlib inline\n",
        "import numpy as np\n",
        "import matplotlib.pyplot as plt"
      ]
    },
    {
      "cell_type": "code",
      "source": [
        "def network_init(input_layer_nodes, middlw_layer_nodes, output_layer_nodes):\n",
        "    \"\"\"\n",
        "        ネットワーク初期化\n",
        "    \"\"\"\n",
        "    global middle_layer_weight,output_layer_weight\n",
        "    np.random.seed(0) # 乱数の種\n",
        "    middle_layer_weight = np.random.rand(input_layer_nodes+1,middlw_layer_nodes) # 重みをランダムに決定\n",
        "    output_layer_weight = np.random.rand(middlw_layer_nodes+1,output_layer_nodes)# 重みをランダムに決定\n",
        "\n",
        "def loss_function(input,correct):\n",
        "    \"\"\"\n",
        "        損失関数\n",
        "    \"\"\"\n",
        "    output = linear_calc(input,middle_layer_weight,output_layer_weight)\n",
        "    matrix_elements = output.shape[0] # 行数x列数\n",
        "    return(np.sum(np.power(output-correct,2))/matrix_elements) # 平均二乗誤差を返す\n",
        "\n",
        "def numerical_differentiation(func, now_location):\n",
        "    \"\"\"\n",
        "        微分関数\n",
        "    \"\"\"\n",
        "    small_change = 0.01\n",
        "    gradient = np.zeros_like(now_location) # まずゼロ埋め\n",
        "    iterate = np.nditer(now_location, flags=['multi_index']) # 行列の全要素にアクセス\n",
        "    while not iterate.finished: # アクセス完了まで\n",
        "        i = iterate.multi_index # インデックス番号を取得(0,0のように)\n",
        "        temp_value = now_location[i]\n",
        "        now_location[i] = temp_value + small_change\n",
        "        slightly_increase = func(now_location) # 微小に増やした時の関数の値\n",
        "        now_location[i] = temp_value - small_change\n",
        "        slightly_decrease = func(now_location) # 微小に減らした時の関数の値\n",
        "\n",
        "        gradient[i] = (slightly_increase-slightly_decrease)/(2*small_change) # 傾き\n",
        "        now_location[i] = temp_value # 増減させる前に戻す\n",
        "        iterate.iternext()   # 次の繰り返しへ\n",
        "    return gradient\n",
        "\n",
        "def sigmoid(x): # 中間層での活性化関数\n",
        "    \"\"\"\n",
        "        シグモイド関数\n",
        "    \"\"\"\n",
        "    return 1/(1+np.exp(-x))\n",
        "\n",
        "def softmax(x): # 出力層からの出力を確率に変換する時に使う\n",
        "    \"\"\"\n",
        "        ソフトマックス関数\n",
        "    \"\"\"\n",
        "    exp_x = np.exp(x)\n",
        "    return exp_x / np.sum(np.exp(x), axis=1, keepdims=True)\n",
        "\n",
        "def linear_calc(x,middle_layer_weight,output_layer_weight): \n",
        "    \"\"\"\n",
        "        線形計算\n",
        "    \"\"\"\n",
        "    input_layer_value = np.insert(x,0,1,axis=1) # バイアスニューロンを加え、入力層の各ノードの値とする\n",
        "    temp_middle_layer_value = np.dot(input_layer_value,middle_layer_weight) # 重みを掛けて合計\n",
        "    middle_layer_value = sigmoid(temp_middle_layer_value) # 活性化関数を適用し中間層の各ノードの値とする\n",
        "    middle_layer_value = np.insert(middle_layer_value,0,1,axis=1) # バイアスニューロンも加え、中間層の各ノードの値とする\n",
        "    temp_output_layer_value = np.dot(middle_layer_value,output_layer_weight) # 重みを掛けて合計\n",
        "    output_layer_value = softmax(temp_output_layer_value) # 自作ソフトマックス関数にて出力を確立に\n",
        "    return output_layer_value\n"
      ],
      "metadata": {
        "id": "x5ZFvcSDTsAv"
      },
      "execution_count": null,
      "outputs": []
    },
    {
      "cell_type": "code",
      "source": [
        "middle_layer_weight = [] # 中間層の重み\n",
        "output_layer_weight = [] # 出力層の重み\n",
        "error_recording_list = [] # 損失記録用のLIST\n",
        "\n",
        "input_matrix = np.array([[0,0],[0,1],[1,0],[1,1]])\n",
        "\n",
        "# correct_matrix = np.array([[0,1],[0,1],[0,1],[1,0]])  # ANDの時の確率 (線形に分類できる)\n",
        "# correct_matrix = np.array([[0,1],[1,0],[1,0],[1,0]])  # ORの時の確率 (線形に分類できる)\n",
        "# correct_matrix = np.array([[1,0],[1,0],[1,0],[0,1]])  # NANDの時の確率 (線形に分類できる)\n",
        "correct_matrix = np.array([[0,0],[1,0],[0,1],[1,1]])  # XORの時の確率 (線形に分類できない)\n",
        "\n",
        "loop_count = 5000\n",
        "learning_rate = 0.2 # 勾配降下法の学習率\n",
        "\n",
        "## main\n",
        "\n",
        "network_init(input_layer_nodes=2, middlw_layer_nodes=3, output_layer_nodes=2) # 各層のノード数を可変に試せるように\n",
        "\n",
        "print(\"初期状態の「中間層への」重み\\n\",middle_layer_weight)\n",
        "print(\"初期状態の「出力層への」重み\\n\",output_layer_weight)\n",
        "\n",
        "print(\"学習する前のネットワークの出力\")\n",
        "before_learning = linear_calc(input_matrix,middle_layer_weight,output_layer_weight)\n",
        "input_matrix_counts = input_matrix.shape[0]\n",
        "\n",
        "for i in range(input_matrix_counts):\n",
        "    print(input_matrix[i],before_learning[i])\n",
        "\n",
        "## Learning Start\n",
        "\n",
        "for i in range(loop_count):\n",
        "    ano_loss_function = lambda weights: loss_function(input_matrix,correct_matrix)\n",
        "\n",
        "    gradients_middle_layer_weight=numerical_differentiation(ano_loss_function,middle_layer_weight)\n",
        "    gradients_output_layer_weight=numerical_differentiation(ano_loss_function,output_layer_weight)\n",
        "\n",
        "    middle_layer_weight -= learning_rate * gradients_middle_layer_weight # 重みを更新\n",
        "    output_layer_weight -= learning_rate * gradients_output_layer_weight # 重みを更新\n",
        "\n",
        "    loss_function_value=loss_function(input_matrix,correct_matrix)\n",
        "    error_recording_list.append(loss_function_value)\n",
        "\n",
        "    if (((i+1) % 500) == 0):\n",
        "        print(\"-------------\")\n",
        "        print(\"i=\",i+1,loss_function_value)\n",
        "\n",
        "## Learning End\n",
        "\n",
        "print(\"-------------\")\n",
        "print(\"学習後のネットワークの出力\")\n",
        "output_after_training = linear_calc(input_matrix,middle_layer_weight,output_layer_weight)\n",
        "\n",
        "for i in range(input_matrix_counts):\n",
        "    print(input_matrix[i],output_after_training[i])"
      ],
      "metadata": {
        "colab": {
          "base_uri": "https://localhost:8080/"
        },
        "id": "iP48sG58TQ7Y",
        "outputId": "bed8e93b-9c5b-4394-d1c2-ee0ef6fa69ac"
      },
      "execution_count": 3,
      "outputs": [
        {
          "output_type": "stream",
          "name": "stdout",
          "text": [
            "初期状態の「中間層への」重み\n",
            " [[0.5488135  0.71518937 0.60276338]\n",
            " [0.54488318 0.4236548  0.64589411]\n",
            " [0.43758721 0.891773   0.96366276]]\n",
            "初期状態の「出力層への」重み\n",
            " [[0.38344152 0.79172504]\n",
            " [0.52889492 0.56804456]\n",
            " [0.92559664 0.07103606]\n",
            " [0.0871293  0.0202184 ]]\n",
            "学習する前のネットワークの出力\n",
            "[0 0] [0.54587617 0.45412383]\n",
            "[0 1] [0.58185528 0.41814472]\n",
            "[1 0] [0.5650508 0.4349492]\n",
            "[1 1] [0.5927264 0.4072736]\n",
            "-------------\n",
            "i= 500 0.26135575999244404\n",
            "-------------\n",
            "i= 1000 0.2533317121174085\n",
            "-------------\n",
            "i= 1500 0.2518225564506229\n",
            "-------------\n",
            "i= 2000 0.2512263526259586\n",
            "-------------\n",
            "i= 2500 0.2509143392474027\n",
            "-------------\n",
            "i= 3000 0.25072458308489287\n",
            "-------------\n",
            "i= 3500 0.2505978308797989\n",
            "-------------\n",
            "i= 4000 0.250507551215126\n",
            "-------------\n",
            "i= 4500 0.2504401763154307\n",
            "-------------\n",
            "i= 5000 0.2503880793868919\n",
            "-------------\n",
            "学習後のネットワークの出力\n",
            "[0 0] [0.49990846 0.50009154]\n",
            "[0 1] [0.98136495 0.01863505]\n",
            "[1 0] [0.02070949 0.97929051]\n",
            "[1 1] [0.49995287 0.50004713]\n"
          ]
        }
      ]
    },
    {
      "cell_type": "code",
      "source": [
        "## 誤差が減っていく過程をPlot\n",
        "x = np.arange(0,loop_count,1)\n",
        "plt.plot(x,error_recording_list)\n",
        "plt.show()"
      ],
      "metadata": {
        "colab": {
          "base_uri": "https://localhost:8080/",
          "height": 265
        },
        "id": "6s04gJY5VAnM",
        "outputId": "f552cf37-4e5d-437b-845c-8fc3b9e5f916"
      },
      "execution_count": 4,
      "outputs": [
        {
          "output_type": "display_data",
          "data": {
            "text/plain": [
              "<Figure size 432x288 with 1 Axes>"
            ],
            "image/png": "[encoded data removed]"
          },
          "metadata": {
            "needs_background": "light"
          }
        }
      ]
    },
    {
      "cell_type": "code",
      "source": [],
      "metadata": {
        "id": "rN-M7q5pVUeF"
      },
      "execution_count": null,
      "outputs": []
    }
  ]
}